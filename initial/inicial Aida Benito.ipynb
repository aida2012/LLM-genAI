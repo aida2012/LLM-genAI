{
 "cells": [
  {
   "cell_type": "code",
   "execution_count": null,
   "metadata": {},
   "outputs": [],
   "source": [
    "# 1- Cargar API KEY de PINECONE\n",
    "\n",
    "from dotenv import load_dotenv\n",
    "import os\n",
    "\n",
    "# Cargar las variables del archivo .env\n",
    "load_dotenv()\n",
    "\n",
    "# Acceder a las claves\n",
    "PINECONE_API_KEY= os.getenv(\"BD_KEY\")\n",
    "\n"
   ]
  },
  {
   "cell_type": "code",
   "execution_count": 2,
   "metadata": {},
   "outputs": [
    {
     "name": "stderr",
     "output_type": "stream",
     "text": [
      "c:\\Users\\anben\\Desktop\\posgrado\\LLM\\llm_env\\Lib\\site-packages\\pinecone\\data\\index.py:1: TqdmWarning: IProgress not found. Please update jupyter and ipywidgets. See https://ipywidgets.readthedocs.io/en/stable/user_install.html\n",
      "  from tqdm.autonotebook import tqdm\n"
     ]
    }
   ],
   "source": [
    "# 2- Impmortar las librerias necesarias\n",
    "from pinecone import Pinecone,ServerlessSpec,Index\n",
    "from langchain.document_loaders import PyPDFLoader\n",
    "from langchain.text_splitter import RecursiveCharacterTextSplitter\n",
    "from sentence_transformers import SentenceTransformer\n",
    "\n",
    "\n"
   ]
  },
  {
   "cell_type": "code",
   "execution_count": 3,
   "metadata": {},
   "outputs": [
    {
     "name": "stdout",
     "output_type": "stream",
     "text": [
      "Primeros 2 fragmentos: [Document(page_content='AÍDABENITO\\nanbenito@yahoo.com.ar\\nQuilmes, BuenosAires, Argentina\\nCell: (54911)6-497-6858-Skype: anbenito1975@gmail.com\\nLinkedIn:https://www.linkedin.com/in/aida-benito/\\nINFORMATIONSYSTEMSENGINEER\\nExperiencedDataEngineer andBusiness IntelligenceConsultant. Possessesadvancedknowledgeof\\ndatabases and various BI tools, as well as knowledge of programming languages, AWS and GCP\\nEcosystems. Has strong communication skills. Passionate about Data Science, BigData, Internet of', metadata={'source': 'C:\\\\Users\\\\anben\\\\Desktop\\\\resume_Aida Benito.pdf', 'page': 0}), Document(page_content='Things, Artificial Intelligence, research and learning. Able to handle several projects simultaneously.\\nHaspassedtheFirst CertificateinEnglishexam.\\nCorecompetenciesinclude:\\nFlexibility-Leadership-Teamwork-Conflict resolution-Analytical thinking-Decisionmaking\\nCustomerService-Creativethinking\\nPROFESSIONALEXPERIENCE\\nMPSGroup-Client: DeltaAirlines\\n● Designandproposearchitecturesolutions\\n● DevelopETLcomponents\\n● DevelopSQLqueries', metadata={'source': 'C:\\\\Users\\\\anben\\\\Desktop\\\\resume_Aida Benito.pdf', 'page': 0})]\n"
     ]
    }
   ],
   "source": [
    "# 3- Cargar el archivo PDF\n",
    "pdf_location = r'C:\\Users\\anben\\Desktop\\resume_Aida Benito.pdf'\n",
    "loader = PyPDFLoader(pdf_location)\n",
    "documents = loader.load()\n",
    "\n",
    "# Dividir el documento en fragmentos pequeños\n",
    "text_splitter = RecursiveCharacterTextSplitter(chunk_size=500, chunk_overlap=50)\n",
    "split_documents = text_splitter.split_documents(documents)\n",
    "\n",
    "# Ver los primeros fragmentos para asegurar que la división fue correcta\n",
    "print(f\"Primeros 2 fragmentos: {split_documents[:2]}\")\n",
    "\n"
   ]
  },
  {
   "cell_type": "code",
   "execution_count": 5,
   "metadata": {},
   "outputs": [
    {
     "name": "stdout",
     "output_type": "stream",
     "text": [
      "index resume-index borrado\n"
     ]
    },
    {
     "data": {
      "text/plain": [
       "{'dimension': 384,\n",
       " 'index_fullness': 0.0,\n",
       " 'namespaces': {},\n",
       " 'total_vector_count': 0}"
      ]
     },
     "execution_count": 5,
     "metadata": {},
     "output_type": "execute_result"
    }
   ],
   "source": [
    "# 4- Inicializar Pinecone\n",
    "from pinecone import ServerlessSpec\n",
    "import time\n",
    "pc=Pinecone(api_key=PINECONE_API_KEY)\n",
    "cloud = 'aws'\n",
    "region = 'us-east-1'\n",
    "spec = ServerlessSpec(cloud=cloud, region=region)\n",
    "\n",
    "\n",
    "\n",
    "index_name = \"resume-index\"\n",
    "if index_name in pc.list_indexes().names():\n",
    "  pc.delete_index(index_name)\n",
    "  print(\"index {} borrado\".format(index_name))\n",
    "\n",
    "time.sleep(1)\n",
    "\n",
    "# Si el índice no existe, lo creamos\n",
    "if index_name not in pc.list_indexes().names():\n",
    "    pc.create_index(\n",
    "        index_name,\n",
    "        dimension=384,  \n",
    "        metric='cosine',\n",
    "        spec=spec)\n",
    "\n",
    "# connect to index\n",
    "index = pc.Index(index_name)\n",
    "time.sleep(1)\n",
    "# view index stats\n",
    "index.describe_index_stats()\n"
   ]
  },
  {
   "cell_type": "code",
   "execution_count": 8,
   "metadata": {},
   "outputs": [
    {
     "name": "stdout",
     "output_type": "stream",
     "text": [
      "Embeddings generados y almacenados en el índice 'resume-index' de Pinecone.\n"
     ]
    }
   ],
   "source": [
    "embed_model = SentenceTransformer('all-MiniLM-L6-v2')\n",
    "\n",
    "# Generar embeddings usando el modelo \n",
    "texts = [doc.page_content for doc in split_documents]\n",
    "embeddings = embed_model.encode(texts)\n",
    "\n",
    "# Preparar los datos para subirlos a Pinecone\n",
    "#upsert_data = [(str(i), embeddings[i], {}) for i in range(len(embeddings))]\n",
    "\n",
    "# Subir los embeddings al índice\n",
    "#index.upsert(vectors=upsert_data)\n",
    "upsert_data_generator = [\n",
    "    {\n",
    "        'id': str(i), \n",
    "        'values': embedding, \n",
    "        'metadata': {'text': texts[i]}  # Los metadatos (por ejemplo, texto del documento)\n",
    "    }\n",
    "    for i, embedding in enumerate(embeddings)\n",
    "]\n",
    "\n",
    "index.upsert(vectors=upsert_data_generator)\n",
    "\n",
    "print(f\"Embeddings generados y almacenados en el índice '{index_name}' de Pinecone.\")"
   ]
  }
 ],
 "metadata": {
  "kernelspec": {
   "display_name": "Python (llm_env)",
   "language": "python",
   "name": "llm_env"
  },
  "language_info": {
   "codemirror_mode": {
    "name": "ipython",
    "version": 3
   },
   "file_extension": ".py",
   "mimetype": "text/x-python",
   "name": "python",
   "nbconvert_exporter": "python",
   "pygments_lexer": "ipython3",
   "version": "3.12.3"
  }
 },
 "nbformat": 4,
 "nbformat_minor": 2
}
